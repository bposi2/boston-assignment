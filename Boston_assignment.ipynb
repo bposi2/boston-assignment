{
 "cells": [
  {
   "cell_type": "code",
   "execution_count": 1,
   "metadata": {
    "collapsed": true
   },
   "outputs": [],
   "source": [
    "from sklearn import datasets\n",
    "import pandas as pd\n",
    "from sklearn.preprocessing import StandardScaler\n",
    "from sklearn.cross_validation import train_test_split\n",
    "from sklearn.metrics import mean_squared_error\n",
    "from sklearn.metrics import r2_score\n",
    "from sklearn.linear_model import LinearRegression"
   ]
  },
  {
   "cell_type": "code",
   "execution_count": 2,
   "metadata": {
    "collapsed": false
   },
   "outputs": [
    {
     "name": "stdout",
     "output_type": "stream",
     "text": [
      "Boston House Prices dataset\n",
      "\n",
      "Notes\n",
      "------\n",
      "Data Set Characteristics:  \n",
      "\n",
      "    :Number of Instances: 506 \n",
      "\n",
      "    :Number of Attributes: 13 numeric/categorical predictive\n",
      "    \n",
      "    :Median Value (attribute 14) is usually the target\n",
      "\n",
      "    :Attribute Information (in order):\n",
      "        - CRIM     per capita crime rate by town\n",
      "        - ZN       proportion of residential land zoned for lots over 25,000 sq.ft.\n",
      "        - INDUS    proportion of non-retail business acres per town\n",
      "        - CHAS     Charles River dummy variable (= 1 if tract bounds river; 0 otherwise)\n",
      "        - NOX      nitric oxides concentration (parts per 10 million)\n",
      "        - RM       average number of rooms per dwelling\n",
      "        - AGE      proportion of owner-occupied units built prior to 1940\n",
      "        - DIS      weighted distances to five Boston employment centres\n",
      "        - RAD      index of accessibility to radial highways\n",
      "        - TAX      full-value property-tax rate per $10,000\n",
      "        - PTRATIO  pupil-teacher ratio by town\n",
      "        - B        1000(Bk - 0.63)^2 where Bk is the proportion of blacks by town\n",
      "        - LSTAT    % lower status of the population\n",
      "        - MEDV     Median value of owner-occupied homes in $1000's\n",
      "\n",
      "    :Missing Attribute Values: None\n",
      "\n",
      "    :Creator: Harrison, D. and Rubinfeld, D.L.\n",
      "\n",
      "This is a copy of UCI ML housing dataset.\n",
      "http://archive.ics.uci.edu/ml/datasets/Housing\n",
      "\n",
      "\n",
      "This dataset was taken from the StatLib library which is maintained at Carnegie Mellon University.\n",
      "\n",
      "The Boston house-price data of Harrison, D. and Rubinfeld, D.L. 'Hedonic\n",
      "prices and the demand for clean air', J. Environ. Economics & Management,\n",
      "vol.5, 81-102, 1978.   Used in Belsley, Kuh & Welsch, 'Regression diagnostics\n",
      "...', Wiley, 1980.   N.B. Various transformations are used in the table on\n",
      "pages 244-261 of the latter.\n",
      "\n",
      "The Boston house-price data has been used in many machine learning papers that address regression\n",
      "problems.   \n",
      "     \n",
      "**References**\n",
      "\n",
      "   - Belsley, Kuh & Welsch, 'Regression diagnostics: Identifying Influential Data and Sources of Collinearity', Wiley, 1980. 244-261.\n",
      "   - Quinlan,R. (1993). Combining Instance-Based and Model-Based Learning. In Proceedings on the Tenth International Conference of Machine Learning, 236-243, University of Massachusetts, Amherst. Morgan Kaufmann.\n",
      "   - many more! (see http://archive.ics.uci.edu/ml/datasets/Housing)\n",
      "\n"
     ]
    }
   ],
   "source": [
    "bean = datasets.load_boston()\n",
    "print bean.DESCR"
   ]
  },
  {
   "cell_type": "code",
   "execution_count": 3,
   "metadata": {
    "collapsed": true
   },
   "outputs": [],
   "source": [
    "def load_boston():\n",
    "    scaler = StandardScaler()\n",
    "    boston = datasets.load_boston()\n",
    "    X=boston.data\n",
    "    y=boston.target\n",
    "    X = scaler.fit_transform(X)\n",
    "    return train_test_split(X,y)"
   ]
  },
  {
   "cell_type": "code",
   "execution_count": 4,
   "metadata": {
    "collapsed": true
   },
   "outputs": [],
   "source": [
    "X_train, X_test, y_train, y_test = load_boston()"
   ]
  },
  {
   "cell_type": "code",
   "execution_count": 5,
   "metadata": {
    "collapsed": false
   },
   "outputs": [
    {
     "data": {
      "text/plain": [
       "(379, 13)"
      ]
     },
     "execution_count": 5,
     "metadata": {},
     "output_type": "execute_result"
    }
   ],
   "source": [
    "X_train.shape"
   ]
  },
  {
   "cell_type": "code",
   "execution_count": 6,
   "metadata": {
    "collapsed": false
   },
   "outputs": [
    {
     "data": {
      "text/plain": [
       "LinearRegression(copy_X=True, fit_intercept=True, n_jobs=1, normalize=False)"
      ]
     },
     "execution_count": 6,
     "metadata": {},
     "output_type": "execute_result"
    }
   ],
   "source": [
    "cl = LinearRegression()\n",
    "cl.fit(X_train, y_train)"
   ]
  },
  {
   "cell_type": "code",
   "execution_count": 8,
   "metadata": {
    "collapsed": false
   },
   "outputs": [
    {
     "data": {
      "text/plain": [
       "[(24.399999999999999, 28.069634722896055),\n",
       " (24.600000000000001, 25.19873273446056),\n",
       " (24.300000000000001, 24.230917716444292),\n",
       " (15.199999999999999, 11.299881279439656),\n",
       " (16.100000000000001, 18.372232134161163),\n",
       " (17.399999999999999, 17.946902690465212),\n",
       " (20.600000000000001, 25.999716359202871),\n",
       " (10.5, 12.621523881391768),\n",
       " (20.300000000000001, 22.284801093952133),\n",
       " (35.399999999999999, 31.664544690271171),\n",
       " (23.600000000000001, 30.165178110185387),\n",
       " (28.399999999999999, 28.493046277368283),\n",
       " (18.100000000000001, 16.927639707000125),\n",
       " (22.0, 21.129747885330204),\n",
       " (16.5, 12.870981093734233),\n",
       " (21.899999999999999, 38.025156000435089),\n",
       " (50.0, 40.004171489115279),\n",
       " (32.0, 33.173209613709574),\n",
       " (29.0, 32.711921163308801),\n",
       " (27.0, 31.862465282566795),\n",
       " (21.699999999999999, 21.875511567341817),\n",
       " (19.300000000000001, 22.274409890330332),\n",
       " (26.600000000000001, 23.21128854136099),\n",
       " (14.5, 17.678159685521187),\n",
       " (21.800000000000001, 20.523517963698687),\n",
       " (20.300000000000001, 19.901737477576887),\n",
       " (12.0, 11.145535857825294),\n",
       " (18.800000000000001, 20.455873815403773),\n",
       " (25.0, 23.308714215671046),\n",
       " (24.800000000000001, 30.941914862941822),\n",
       " (23.300000000000001, 25.156156357033431),\n",
       " (22.800000000000001, 24.726086135658925),\n",
       " (13.300000000000001, 20.18769173963576),\n",
       " (42.799999999999997, 31.6662355075722),\n",
       " (21.199999999999999, 23.271275395582684),\n",
       " (7.2000000000000002, 10.774777401363377),\n",
       " (17.800000000000001, 17.908952724071447),\n",
       " (9.6999999999999993, 9.5951052161427945),\n",
       " (21.699999999999999, 22.925234838076776),\n",
       " (22.600000000000001, 25.996689511187416),\n",
       " (22.300000000000001, 25.97068399908143),\n",
       " (14.5, 13.947020307433226),\n",
       " (50.0, 35.627647298593146),\n",
       " (15.0, 19.903757329917379),\n",
       " (21.600000000000001, 24.77234752627955),\n",
       " (17.5, 16.97528548123887),\n",
       " (34.899999999999999, 34.053294903345886),\n",
       " (13.4, 17.128001650460934),\n",
       " (19.300000000000001, 20.681641521265789),\n",
       " (16.199999999999999, 20.109468407114377),\n",
       " (27.5, 32.47236837943629),\n",
       " (22.899999999999999, 24.848457506809783),\n",
       " (11.699999999999999, 15.804403837576455),\n",
       " (23.899999999999999, 27.660590967973931),\n",
       " (23.100000000000001, 20.696566529448674),\n",
       " (48.5, 41.887161928491764),\n",
       " (20.699999999999999, 26.066161856066511),\n",
       " (26.600000000000001, 27.677720829302466),\n",
       " (8.5, 15.76290730314652),\n",
       " (23.699999999999999, 28.849619462075662),\n",
       " (19.300000000000001, 21.998261725716254),\n",
       " (8.4000000000000004, 15.880171300775825),\n",
       " (22.600000000000001, 25.20659838899169),\n",
       " (17.100000000000001, 20.654181640399937),\n",
       " (29.0, 32.091867850808782),\n",
       " (25.0, 21.839425210791642),\n",
       " (6.2999999999999998, 11.805045911212652),\n",
       " (39.799999999999997, 34.635769738374684),\n",
       " (27.899999999999999, 18.426878889761035),\n",
       " (29.600000000000001, 24.793499548751104),\n",
       " (34.899999999999999, 30.600876982069106),\n",
       " (22.0, 29.139496064484952),\n",
       " (50.0, 31.285095903191532),\n",
       " (34.899999999999999, 34.631086598056179),\n",
       " (19.899999999999999, 19.618634600163364),\n",
       " (20.5, 23.935028624867282),\n",
       " (23.199999999999999, 27.074254903595737),\n",
       " (43.5, 39.298289391176603),\n",
       " (32.0, 33.285306601628385),\n",
       " (44.799999999999997, 38.182272207590387),\n",
       " (8.5, 7.5971913301930449),\n",
       " (18.600000000000001, 19.776210498970798),\n",
       " (22.300000000000001, 27.097969216794322),\n",
       " (8.6999999999999993, 9.8552942040944416),\n",
       " (13.800000000000001, 0.9615624818865065),\n",
       " (21.699999999999999, 22.741024695279826),\n",
       " (50.0, 20.910886017499216),\n",
       " (15.199999999999999, 16.139762834024115),\n",
       " (50.0, 39.830898922546403),\n",
       " (13.5, 13.304947142635296),\n",
       " (14.9, 17.595822725542533),\n",
       " (24.600000000000001, 28.535841785831103),\n",
       " (21.399999999999999, 23.890757619198812),\n",
       " (14.4, 4.5879896155125373),\n",
       " (43.100000000000001, 37.040559270091009),\n",
       " (18.399999999999999, 18.27605640843235),\n",
       " (13.199999999999999, 10.359119424098786),\n",
       " (22.899999999999999, 28.176918564735224),\n",
       " (13.4, 13.80049070398994),\n",
       " (16.800000000000001, 20.254926108965392),\n",
       " (20.899999999999999, 21.08763487880432),\n",
       " (24.5, 20.978580244363808),\n",
       " (27.5, 19.768219093967105),\n",
       " (16.5, 23.0285129536894),\n",
       " (15.6, 21.558418849991106),\n",
       " (14.1, 16.441522850029159),\n",
       " (19.399999999999999, 25.474969761449735),\n",
       " (22.800000000000001, 27.774127957301658),\n",
       " (14.300000000000001, 17.284489308605693),\n",
       " (24.800000000000001, 27.552845995789525),\n",
       " (24.399999999999999, 24.291657837861308),\n",
       " (21.899999999999999, 14.343536983506542),\n",
       " (18.300000000000001, 19.070213189761223),\n",
       " (37.200000000000003, 32.626045679007035),\n",
       " (14.1, 17.15724115353224),\n",
       " (8.3000000000000007, 10.504902016434492),\n",
       " (15.6, 12.907549046900918),\n",
       " (50.0, 41.828503437677796),\n",
       " (23.0, 24.007466043629528),\n",
       " (34.600000000000001, 35.245849892977368),\n",
       " (41.700000000000003, 37.99915110179689),\n",
       " (20.399999999999999, 20.344142914779823),\n",
       " (23.100000000000001, 8.7687074790155162),\n",
       " (33.299999999999997, 36.483226461405074),\n",
       " (26.5, 25.237363030245817),\n",
       " (13.300000000000001, 16.111220250367804),\n",
       " (32.5, 29.906087272248115)]"
      ]
     },
     "execution_count": 8,
     "metadata": {},
     "output_type": "execute_result"
    }
   ],
   "source": [
    "zip (y_test, cl.predict(X_test))"
   ]
  },
  {
   "cell_type": "code",
   "execution_count": 9,
   "metadata": {
    "collapsed": false
   },
   "outputs": [
    {
     "data": {
      "text/plain": [
       "0.7576151569145817"
      ]
     },
     "execution_count": 9,
     "metadata": {},
     "output_type": "execute_result"
    }
   ],
   "source": [
    "r2_score(y_train,cl.predict(X_train))"
   ]
  },
  {
   "cell_type": "code",
   "execution_count": 10,
   "metadata": {
    "collapsed": false
   },
   "outputs": [
    {
     "data": {
      "text/plain": [
       "18.878482399705192"
      ]
     },
     "execution_count": 10,
     "metadata": {},
     "output_type": "execute_result"
    }
   ],
   "source": [
    "mean_squared_error(y_train,cl.predict(X_train))"
   ]
  },
  {
   "cell_type": "code",
   "execution_count": 11,
   "metadata": {
    "collapsed": false
   },
   "outputs": [
    {
     "data": {
      "text/plain": [
       "Ridge(alpha=0.6, copy_X=True, fit_intercept=True, max_iter=None,\n",
       "   normalize=False, solver='auto', tol=0.001)"
      ]
     },
     "execution_count": 11,
     "metadata": {},
     "output_type": "execute_result"
    }
   ],
   "source": [
    "from sklearn import linear_model\n",
    "a = linear_model.Ridge (alpha = 0.6)\n",
    "a.fit(X_train, y_train)"
   ]
  },
  {
   "cell_type": "code",
   "execution_count": 12,
   "metadata": {
    "collapsed": false
   },
   "outputs": [
    {
     "data": {
      "text/plain": [
       "0.6851730797997897"
      ]
     },
     "execution_count": 12,
     "metadata": {},
     "output_type": "execute_result"
    }
   ],
   "source": [
    "r2_score(y_test,a.predict(X_test))"
   ]
  },
  {
   "cell_type": "code",
   "execution_count": 13,
   "metadata": {
    "collapsed": false
   },
   "outputs": [
    {
     "data": {
      "text/plain": [
       "32.4584610603331"
      ]
     },
     "execution_count": 13,
     "metadata": {},
     "output_type": "execute_result"
    }
   ],
   "source": [
    "mean_squared_error(y_test,a.predict(X_test))"
   ]
  },
  {
   "cell_type": "code",
   "execution_count": 14,
   "metadata": {
    "collapsed": false
   },
   "outputs": [
    {
     "data": {
      "text/plain": [
       "Ridge(alpha=0.8, copy_X=True, fit_intercept=True, max_iter=None,\n",
       "   normalize=False, solver='auto', tol=0.001)"
      ]
     },
     "execution_count": 14,
     "metadata": {},
     "output_type": "execute_result"
    }
   ],
   "source": [
    "from sklearn import linear_model\n",
    "a = linear_model.Ridge (alpha = 0.8)\n",
    "a.fit(X_train, y_train)"
   ]
  },
  {
   "cell_type": "code",
   "execution_count": 15,
   "metadata": {
    "collapsed": false
   },
   "outputs": [
    {
     "data": {
      "text/plain": [
       "0.68500081637068377"
      ]
     },
     "execution_count": 15,
     "metadata": {},
     "output_type": "execute_result"
    }
   ],
   "source": [
    "r2_score(y_test,a.predict(X_test))"
   ]
  },
  {
   "cell_type": "code",
   "execution_count": 16,
   "metadata": {
    "collapsed": false
   },
   "outputs": [
    {
     "data": {
      "text/plain": [
       "32.476221313497589"
      ]
     },
     "execution_count": 16,
     "metadata": {},
     "output_type": "execute_result"
    }
   ],
   "source": [
    "mean_squared_error(y_test,a.predict(X_test))"
   ]
  },
  {
   "cell_type": "code",
   "execution_count": 17,
   "metadata": {
    "collapsed": false
   },
   "outputs": [
    {
     "data": {
      "text/plain": [
       "Ridge(alpha=0.9, copy_X=True, fit_intercept=True, max_iter=None,\n",
       "   normalize=False, solver='auto', tol=0.001)"
      ]
     },
     "execution_count": 17,
     "metadata": {},
     "output_type": "execute_result"
    }
   ],
   "source": [
    "from sklearn import linear_model\n",
    "a = linear_model.Ridge (alpha = 0.9)\n",
    "a.fit(X_train, y_train)"
   ]
  },
  {
   "cell_type": "code",
   "execution_count": 18,
   "metadata": {
    "collapsed": false
   },
   "outputs": [
    {
     "data": {
      "text/plain": [
       "0.68491493804854198"
      ]
     },
     "execution_count": 18,
     "metadata": {},
     "output_type": "execute_result"
    }
   ],
   "source": [
    "r2_score(y_test,a.predict(X_test))"
   ]
  },
  {
   "cell_type": "code",
   "execution_count": 19,
   "metadata": {
    "collapsed": false
   },
   "outputs": [
    {
     "data": {
      "text/plain": [
       "32.485075315478724"
      ]
     },
     "execution_count": 19,
     "metadata": {},
     "output_type": "execute_result"
    }
   ],
   "source": [
    "mean_squared_error(y_test,a.predict(X_test))"
   ]
  },
  {
   "cell_type": "code",
   "execution_count": null,
   "metadata": {
    "collapsed": true
   },
   "outputs": [],
   "source": []
  }
 ],
 "metadata": {
  "kernelspec": {
   "display_name": "Python 2",
   "language": "python",
   "name": "python2"
  },
  "language_info": {
   "codemirror_mode": {
    "name": "ipython",
    "version": 2
   },
   "file_extension": ".py",
   "mimetype": "text/x-python",
   "name": "python",
   "nbconvert_exporter": "python",
   "pygments_lexer": "ipython2",
   "version": "2.7.10"
  }
 },
 "nbformat": 4,
 "nbformat_minor": 0
}
